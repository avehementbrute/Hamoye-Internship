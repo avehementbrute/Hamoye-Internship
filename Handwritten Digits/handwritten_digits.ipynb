{
 "cells": [
  {
   "cell_type": "code",
   "execution_count": 1,
   "id": "32fe686c",
   "metadata": {
    "ExecuteTime": {
     "end_time": "2022-03-17T16:28:23.878689Z",
     "start_time": "2022-03-17T16:27:55.365550Z"
    }
   },
   "outputs": [
    {
     "data": {
      "application/javascript": [
       "IPython.notebook.set_autosave_interval(1000)"
      ]
     },
     "metadata": {},
     "output_type": "display_data"
    },
    {
     "name": "stdout",
     "output_type": "stream",
     "text": [
      "Autosaving every 1 seconds\n"
     ]
    }
   ],
   "source": [
    "import tensorflow as tf\n",
    "import matplotlib.pyplot as plt\n",
    "import numpy as np\n",
    "\n",
    "import warnings\n",
    "warnings.filterwarnings(\"ignore\")\n",
    "%matplotlib inline\n",
    "%autosave 1"
   ]
  },
  {
   "cell_type": "code",
   "execution_count": 2,
   "id": "d2d0b83c",
   "metadata": {
    "ExecuteTime": {
     "end_time": "2022-03-17T16:28:24.759258Z",
     "start_time": "2022-03-17T16:28:23.880712Z"
    }
   },
   "outputs": [],
   "source": [
    "from tensorflow.keras.datasets import mnist"
   ]
  },
  {
   "cell_type": "code",
   "execution_count": 3,
   "id": "fc661a23",
   "metadata": {
    "ExecuteTime": {
     "end_time": "2022-03-17T16:28:25.504885Z",
     "start_time": "2022-03-17T16:28:24.762863Z"
    }
   },
   "outputs": [],
   "source": [
    "(x_train, y_train) , (x_test, y_test) = mnist.load_data()"
   ]
  },
  {
   "cell_type": "code",
   "execution_count": 4,
   "id": "4488e5e9",
   "metadata": {
    "ExecuteTime": {
     "end_time": "2022-03-17T16:28:25.519925Z",
     "start_time": "2022-03-17T16:28:25.504885Z"
    }
   },
   "outputs": [
    {
     "data": {
      "text/plain": [
       "((60000, 28, 28), (60000,))"
      ]
     },
     "execution_count": 4,
     "metadata": {},
     "output_type": "execute_result"
    }
   ],
   "source": [
    "x_train.shape,y_train.shape"
   ]
  },
  {
   "cell_type": "code",
   "execution_count": 5,
   "id": "e5a3cabf",
   "metadata": {
    "ExecuteTime": {
     "end_time": "2022-03-17T16:28:25.535614Z",
     "start_time": "2022-03-17T16:28:25.521616Z"
    }
   },
   "outputs": [
    {
     "data": {
      "text/plain": [
       "((10000, 28, 28), (10000,))"
      ]
     },
     "execution_count": 5,
     "metadata": {},
     "output_type": "execute_result"
    }
   ],
   "source": [
    "x_test.shape,y_test.shape"
   ]
  },
  {
   "cell_type": "code",
   "execution_count": 29,
   "id": "b791616f",
   "metadata": {
    "ExecuteTime": {
     "end_time": "2022-03-17T16:42:28.672502Z",
     "start_time": "2022-03-17T16:42:28.578616Z"
    }
   },
   "outputs": [
    {
     "name": "stdout",
     "output_type": "stream",
     "text": [
      "the number is 0\n",
      "\n"
     ]
    },
    {
     "data": {
      "image/png": "[encoded data removed]",
      "text/plain": [
       "<Figure size 432x288 with 1 Axes>"
      ]
     },
     "metadata": {
      "needs_background": "light"
     },
     "output_type": "display_data"
    }
   ],
   "source": [
    "from random import randint\n",
    "\n",
    "num_ = randint(0,len(x_train))\n",
    "\n",
    "plt.imshow(x_train[num_]);\n",
    "\n",
    "print(f\"the number is {y_train[num_]}\\n\")"
   ]
  },
  {
   "cell_type": "code",
   "execution_count": 7,
   "id": "c2f6dd41",
   "metadata": {
    "ExecuteTime": {
     "end_time": "2022-03-17T16:28:27.495910Z",
     "start_time": "2022-03-17T16:28:27.263505Z"
    }
   },
   "outputs": [],
   "source": [
    "x_train = x_train / 255\n",
    "x_test = x_test / 255"
   ]
  },
  {
   "cell_type": "code",
   "execution_count": 8,
   "id": "eec4d3ea",
   "metadata": {
    "ExecuteTime": {
     "end_time": "2022-03-17T16:28:27.511873Z",
     "start_time": "2022-03-17T16:28:27.497877Z"
    }
   },
   "outputs": [],
   "source": [
    "from tensorflow import keras"
   ]
  },
  {
   "cell_type": "code",
   "execution_count": 17,
   "id": "e94ae403",
   "metadata": {
    "ExecuteTime": {
     "end_time": "2022-03-17T16:32:00.356539Z",
     "start_time": "2022-03-17T16:32:00.315635Z"
    }
   },
   "outputs": [
    {
     "name": "stdout",
     "output_type": "stream",
     "text": [
      "CPU times: total: 31.2 ms\n",
      "Wall time: 30.9 ms\n"
     ]
    }
   ],
   "source": [
    "%%time \n",
    "model = keras.Sequential([\n",
    "    keras.layers.Flatten(input_shape=(28, 28)),\n",
    "    keras.layers.Dense(100, activation='relu'),\n",
    "    keras.layers.Dropout(0.5),\n",
    "    keras.layers.Dense(10, activation='sigmoid')\n",
    "])\n",
    "\n",
    "model.compile(optimizer='adam',\n",
    "              loss='sparse_categorical_crossentropy',\n",
    "              metrics=['accuracy'])"
   ]
  },
  {
   "cell_type": "code",
   "execution_count": 18,
   "id": "3749253a",
   "metadata": {
    "ExecuteTime": {
     "end_time": "2022-03-17T16:37:26.089423Z",
     "start_time": "2022-03-17T16:32:05.412699Z"
    },
    "scrolled": true
   },
   "outputs": [
    {
     "name": "stdout",
     "output_type": "stream",
     "text": [
      "Epoch 1/100\n",
      "1500/1500 [==============================] - 4s 2ms/step - loss: 0.4606 - accuracy: 0.8624 - val_loss: 0.1942 - val_accuracy: 0.9451\n",
      "Epoch 2/100\n",
      "1500/1500 [==============================] - 3s 2ms/step - loss: 0.2691 - accuracy: 0.9205 - val_loss: 0.1515 - val_accuracy: 0.9568\n",
      "Epoch 3/100\n",
      "1500/1500 [==============================] - 4s 3ms/step - loss: 0.2270 - accuracy: 0.9344 - val_loss: 0.1362 - val_accuracy: 0.9612\n",
      "Epoch 4/100\n",
      "1500/1500 [==============================] - 3s 2ms/step - loss: 0.2053 - accuracy: 0.9381 - val_loss: 0.1203 - val_accuracy: 0.9650\n",
      "Epoch 5/100\n",
      "1500/1500 [==============================] - 3s 2ms/step - loss: 0.1902 - accuracy: 0.9436 - val_loss: 0.1156 - val_accuracy: 0.9681\n",
      "Epoch 6/100\n",
      "1500/1500 [==============================] - 3s 2ms/step - loss: 0.1730 - accuracy: 0.9475 - val_loss: 0.1067 - val_accuracy: 0.9702\n",
      "Epoch 7/100\n",
      "1500/1500 [==============================] - 3s 2ms/step - loss: 0.1620 - accuracy: 0.9509 - val_loss: 0.1075 - val_accuracy: 0.9684\n",
      "Epoch 8/100\n",
      "1500/1500 [==============================] - 3s 2ms/step - loss: 0.1564 - accuracy: 0.9515 - val_loss: 0.1043 - val_accuracy: 0.9716\n",
      "Epoch 9/100\n",
      "1500/1500 [==============================] - 3s 2ms/step - loss: 0.1525 - accuracy: 0.9528 - val_loss: 0.1016 - val_accuracy: 0.9719\n",
      "Epoch 10/100\n",
      "1500/1500 [==============================] - 3s 2ms/step - loss: 0.1412 - accuracy: 0.9555 - val_loss: 0.1039 - val_accuracy: 0.9718\n",
      "Epoch 11/100\n",
      "1500/1500 [==============================] - 3s 2ms/step - loss: 0.1428 - accuracy: 0.9557 - val_loss: 0.1054 - val_accuracy: 0.9726\n",
      "Epoch 12/100\n",
      "1500/1500 [==============================] - 3s 2ms/step - loss: 0.1392 - accuracy: 0.9577 - val_loss: 0.0930 - val_accuracy: 0.9743\n",
      "Epoch 13/100\n",
      "1500/1500 [==============================] - 3s 2ms/step - loss: 0.1305 - accuracy: 0.9583 - val_loss: 0.0952 - val_accuracy: 0.9747\n",
      "Epoch 14/100\n",
      "1500/1500 [==============================] - 3s 2ms/step - loss: 0.1258 - accuracy: 0.9600 - val_loss: 0.0938 - val_accuracy: 0.9750\n",
      "Epoch 15/100\n",
      "1500/1500 [==============================] - 3s 2ms/step - loss: 0.1259 - accuracy: 0.9599 - val_loss: 0.0961 - val_accuracy: 0.9742\n",
      "Epoch 16/100\n",
      "1500/1500 [==============================] - 3s 2ms/step - loss: 0.1230 - accuracy: 0.9608 - val_loss: 0.0938 - val_accuracy: 0.9749\n",
      "Epoch 17/100\n",
      "1500/1500 [==============================] - 3s 2ms/step - loss: 0.1181 - accuracy: 0.9624 - val_loss: 0.0964 - val_accuracy: 0.9753\n",
      "Epoch 18/100\n",
      "1500/1500 [==============================] - 3s 2ms/step - loss: 0.1199 - accuracy: 0.9617 - val_loss: 0.0940 - val_accuracy: 0.9740\n",
      "Epoch 19/100\n",
      "1500/1500 [==============================] - 3s 2ms/step - loss: 0.1150 - accuracy: 0.9629 - val_loss: 0.0915 - val_accuracy: 0.9761\n",
      "Epoch 20/100\n",
      "1500/1500 [==============================] - 3s 2ms/step - loss: 0.1151 - accuracy: 0.9633 - val_loss: 0.0940 - val_accuracy: 0.9753\n",
      "Epoch 21/100\n",
      "1500/1500 [==============================] - 3s 2ms/step - loss: 0.1117 - accuracy: 0.9635 - val_loss: 0.0953 - val_accuracy: 0.9739\n",
      "Epoch 22/100\n",
      "1500/1500 [==============================] - 3s 2ms/step - loss: 0.1108 - accuracy: 0.9639 - val_loss: 0.0974 - val_accuracy: 0.9747\n",
      "Epoch 23/100\n",
      "1500/1500 [==============================] - 3s 2ms/step - loss: 0.1068 - accuracy: 0.9652 - val_loss: 0.0938 - val_accuracy: 0.9754\n",
      "Epoch 24/100\n",
      "1500/1500 [==============================] - 3s 2ms/step - loss: 0.1115 - accuracy: 0.9630 - val_loss: 0.0949 - val_accuracy: 0.9773\n",
      "Epoch 25/100\n",
      "1500/1500 [==============================] - 3s 2ms/step - loss: 0.1049 - accuracy: 0.9645 - val_loss: 0.0998 - val_accuracy: 0.9758\n",
      "Epoch 26/100\n",
      "1500/1500 [==============================] - 3s 2ms/step - loss: 0.1028 - accuracy: 0.9652 - val_loss: 0.1016 - val_accuracy: 0.9764\n",
      "Epoch 27/100\n",
      "1500/1500 [==============================] - 3s 2ms/step - loss: 0.1056 - accuracy: 0.9654 - val_loss: 0.1079 - val_accuracy: 0.9730\n",
      "Epoch 28/100\n",
      "1500/1500 [==============================] - 3s 2ms/step - loss: 0.0997 - accuracy: 0.9670 - val_loss: 0.0970 - val_accuracy: 0.9767\n",
      "Epoch 29/100\n",
      "1500/1500 [==============================] - 3s 2ms/step - loss: 0.0993 - accuracy: 0.9670 - val_loss: 0.1016 - val_accuracy: 0.9758\n",
      "Epoch 30/100\n",
      "1500/1500 [==============================] - 3s 2ms/step - loss: 0.0997 - accuracy: 0.9666 - val_loss: 0.0978 - val_accuracy: 0.9748\n",
      "Epoch 31/100\n",
      "1500/1500 [==============================] - 3s 2ms/step - loss: 0.0962 - accuracy: 0.9676 - val_loss: 0.1025 - val_accuracy: 0.9758\n",
      "Epoch 32/100\n",
      "1500/1500 [==============================] - 3s 2ms/step - loss: 0.0959 - accuracy: 0.9688 - val_loss: 0.0997 - val_accuracy: 0.9756\n",
      "Epoch 33/100\n",
      "1500/1500 [==============================] - 3s 2ms/step - loss: 0.0995 - accuracy: 0.9668 - val_loss: 0.1021 - val_accuracy: 0.9766\n",
      "Epoch 34/100\n",
      "1500/1500 [==============================] - 3s 2ms/step - loss: 0.0963 - accuracy: 0.9675 - val_loss: 0.1047 - val_accuracy: 0.9763\n",
      "Epoch 35/100\n",
      "1500/1500 [==============================] - 3s 2ms/step - loss: 0.0966 - accuracy: 0.9682 - val_loss: 0.1008 - val_accuracy: 0.9759\n",
      "Epoch 36/100\n",
      "1500/1500 [==============================] - 3s 2ms/step - loss: 0.0910 - accuracy: 0.9701 - val_loss: 0.1087 - val_accuracy: 0.9750\n",
      "Epoch 37/100\n",
      "1500/1500 [==============================] - 3s 2ms/step - loss: 0.0952 - accuracy: 0.9680 - val_loss: 0.0996 - val_accuracy: 0.9776\n",
      "Epoch 38/100\n",
      "1500/1500 [==============================] - 3s 2ms/step - loss: 0.0903 - accuracy: 0.9697 - val_loss: 0.1084 - val_accuracy: 0.9763\n",
      "Epoch 39/100\n",
      "1500/1500 [==============================] - 3s 2ms/step - loss: 0.0904 - accuracy: 0.9686 - val_loss: 0.1063 - val_accuracy: 0.9752\n",
      "Epoch 40/100\n",
      "1500/1500 [==============================] - 3s 2ms/step - loss: 0.0907 - accuracy: 0.9692 - val_loss: 0.1060 - val_accuracy: 0.9768\n",
      "Epoch 41/100\n",
      "1500/1500 [==============================] - 3s 2ms/step - loss: 0.0888 - accuracy: 0.9706 - val_loss: 0.1064 - val_accuracy: 0.9763\n",
      "Epoch 42/100\n",
      "1500/1500 [==============================] - 3s 2ms/step - loss: 0.0876 - accuracy: 0.9702 - val_loss: 0.1090 - val_accuracy: 0.9759\n",
      "Epoch 43/100\n",
      "1500/1500 [==============================] - 3s 2ms/step - loss: 0.0878 - accuracy: 0.9698 - val_loss: 0.1090 - val_accuracy: 0.9757\n",
      "Epoch 44/100\n",
      "1500/1500 [==============================] - 3s 2ms/step - loss: 0.0863 - accuracy: 0.9710 - val_loss: 0.1111 - val_accuracy: 0.9753\n",
      "Epoch 45/100\n",
      "1500/1500 [==============================] - 3s 2ms/step - loss: 0.0888 - accuracy: 0.9695 - val_loss: 0.1066 - val_accuracy: 0.9763\n",
      "Epoch 46/100\n",
      "1500/1500 [==============================] - 3s 2ms/step - loss: 0.0831 - accuracy: 0.9715 - val_loss: 0.1155 - val_accuracy: 0.9753\n",
      "Epoch 47/100\n",
      "1500/1500 [==============================] - 3s 2ms/step - loss: 0.0831 - accuracy: 0.9720 - val_loss: 0.1156 - val_accuracy: 0.9746\n",
      "Epoch 48/100\n",
      "1500/1500 [==============================] - 3s 2ms/step - loss: 0.0882 - accuracy: 0.9707 - val_loss: 0.1139 - val_accuracy: 0.9758\n",
      "Epoch 49/100\n",
      "1500/1500 [==============================] - 3s 2ms/step - loss: 0.0853 - accuracy: 0.9706 - val_loss: 0.1099 - val_accuracy: 0.9758\n",
      "Epoch 50/100\n",
      "1500/1500 [==============================] - 3s 2ms/step - loss: 0.0858 - accuracy: 0.9706 - val_loss: 0.1146 - val_accuracy: 0.9754\n",
      "Epoch 51/100\n",
      "1500/1500 [==============================] - 3s 2ms/step - loss: 0.0832 - accuracy: 0.9714 - val_loss: 0.1126 - val_accuracy: 0.9766\n",
      "Epoch 52/100\n",
      "1500/1500 [==============================] - 3s 2ms/step - loss: 0.0828 - accuracy: 0.9717 - val_loss: 0.1139 - val_accuracy: 0.9757\n",
      "Epoch 53/100\n",
      "1500/1500 [==============================] - 3s 2ms/step - loss: 0.0831 - accuracy: 0.9720 - val_loss: 0.1134 - val_accuracy: 0.9759\n",
      "Epoch 54/100\n",
      "1500/1500 [==============================] - 3s 2ms/step - loss: 0.0809 - accuracy: 0.9721 - val_loss: 0.1125 - val_accuracy: 0.9755\n",
      "Epoch 55/100\n",
      "1500/1500 [==============================] - 3s 2ms/step - loss: 0.0843 - accuracy: 0.9729 - val_loss: 0.1138 - val_accuracy: 0.9758\n",
      "Epoch 56/100\n",
      "1500/1500 [==============================] - 3s 2ms/step - loss: 0.0797 - accuracy: 0.9724 - val_loss: 0.1175 - val_accuracy: 0.9765\n",
      "Epoch 57/100\n"
     ]
    },
    {
     "name": "stdout",
     "output_type": "stream",
     "text": [
      "1500/1500 [==============================] - 3s 2ms/step - loss: 0.0833 - accuracy: 0.9730 - val_loss: 0.1131 - val_accuracy: 0.9754\n",
      "Epoch 58/100\n",
      "1500/1500 [==============================] - 3s 2ms/step - loss: 0.0776 - accuracy: 0.9732 - val_loss: 0.1142 - val_accuracy: 0.9758\n",
      "Epoch 59/100\n",
      "1500/1500 [==============================] - 3s 2ms/step - loss: 0.0786 - accuracy: 0.9745 - val_loss: 0.1194 - val_accuracy: 0.9747\n",
      "Epoch 60/100\n",
      "1500/1500 [==============================] - 3s 2ms/step - loss: 0.0829 - accuracy: 0.9720 - val_loss: 0.1189 - val_accuracy: 0.9753\n",
      "Epoch 61/100\n",
      "1500/1500 [==============================] - 3s 2ms/step - loss: 0.0813 - accuracy: 0.9730 - val_loss: 0.1148 - val_accuracy: 0.9754\n",
      "Epoch 62/100\n",
      "1500/1500 [==============================] - 3s 2ms/step - loss: 0.0793 - accuracy: 0.9730 - val_loss: 0.1189 - val_accuracy: 0.9761\n",
      "Epoch 63/100\n",
      "1500/1500 [==============================] - 3s 2ms/step - loss: 0.0764 - accuracy: 0.9744 - val_loss: 0.1303 - val_accuracy: 0.9755\n",
      "Epoch 64/100\n",
      "1500/1500 [==============================] - 3s 2ms/step - loss: 0.0781 - accuracy: 0.9739 - val_loss: 0.1166 - val_accuracy: 0.9769\n",
      "Epoch 65/100\n",
      "1500/1500 [==============================] - 3s 2ms/step - loss: 0.0762 - accuracy: 0.9738 - val_loss: 0.1260 - val_accuracy: 0.9754\n",
      "Epoch 66/100\n",
      "1500/1500 [==============================] - 3s 2ms/step - loss: 0.0736 - accuracy: 0.9753 - val_loss: 0.1261 - val_accuracy: 0.9751\n",
      "Epoch 67/100\n",
      "1500/1500 [==============================] - 3s 2ms/step - loss: 0.0764 - accuracy: 0.9741 - val_loss: 0.1212 - val_accuracy: 0.9748\n",
      "Epoch 68/100\n",
      "1500/1500 [==============================] - 3s 2ms/step - loss: 0.0783 - accuracy: 0.9742 - val_loss: 0.1218 - val_accuracy: 0.9753\n",
      "Epoch 69/100\n",
      "1500/1500 [==============================] - 4s 2ms/step - loss: 0.0748 - accuracy: 0.9741 - val_loss: 0.1239 - val_accuracy: 0.9754\n",
      "Epoch 70/100\n",
      "1500/1500 [==============================] - 3s 2ms/step - loss: 0.0764 - accuracy: 0.9740 - val_loss: 0.1275 - val_accuracy: 0.9758\n",
      "Epoch 71/100\n",
      "1500/1500 [==============================] - 3s 2ms/step - loss: 0.0769 - accuracy: 0.9735 - val_loss: 0.1252 - val_accuracy: 0.9750\n",
      "Epoch 72/100\n",
      "1500/1500 [==============================] - 3s 2ms/step - loss: 0.0742 - accuracy: 0.9743 - val_loss: 0.1248 - val_accuracy: 0.9755\n",
      "Epoch 73/100\n",
      "1500/1500 [==============================] - 3s 2ms/step - loss: 0.0754 - accuracy: 0.9744 - val_loss: 0.1194 - val_accuracy: 0.9779\n",
      "Epoch 74/100\n",
      "1500/1500 [==============================] - 3s 2ms/step - loss: 0.0739 - accuracy: 0.9741 - val_loss: 0.1268 - val_accuracy: 0.9752\n",
      "Epoch 75/100\n",
      "1500/1500 [==============================] - 3s 2ms/step - loss: 0.0734 - accuracy: 0.9758 - val_loss: 0.1232 - val_accuracy: 0.9749\n",
      "Epoch 76/100\n",
      "1500/1500 [==============================] - 3s 2ms/step - loss: 0.0726 - accuracy: 0.9747 - val_loss: 0.1290 - val_accuracy: 0.9760\n",
      "Epoch 77/100\n",
      "1500/1500 [==============================] - 3s 2ms/step - loss: 0.0737 - accuracy: 0.9749 - val_loss: 0.1262 - val_accuracy: 0.9752\n",
      "Epoch 78/100\n",
      "1500/1500 [==============================] - 4s 2ms/step - loss: 0.0739 - accuracy: 0.9749 - val_loss: 0.1305 - val_accuracy: 0.9754\n",
      "Epoch 79/100\n",
      "1500/1500 [==============================] - 3s 2ms/step - loss: 0.0726 - accuracy: 0.9757 - val_loss: 0.1327 - val_accuracy: 0.9746\n",
      "Epoch 80/100\n",
      "1500/1500 [==============================] - 3s 2ms/step - loss: 0.0721 - accuracy: 0.9743 - val_loss: 0.1270 - val_accuracy: 0.9760\n",
      "Epoch 81/100\n",
      "1500/1500 [==============================] - 3s 2ms/step - loss: 0.0705 - accuracy: 0.9759 - val_loss: 0.1295 - val_accuracy: 0.9761\n",
      "Epoch 82/100\n",
      "1500/1500 [==============================] - 3s 2ms/step - loss: 0.0712 - accuracy: 0.9756 - val_loss: 0.1406 - val_accuracy: 0.9751\n",
      "Epoch 83/100\n",
      "1500/1500 [==============================] - 4s 2ms/step - loss: 0.0739 - accuracy: 0.9743 - val_loss: 0.1314 - val_accuracy: 0.9760\n",
      "Epoch 84/100\n",
      "1500/1500 [==============================] - 3s 2ms/step - loss: 0.0744 - accuracy: 0.9747 - val_loss: 0.1418 - val_accuracy: 0.9746\n",
      "Epoch 85/100\n",
      "1500/1500 [==============================] - 3s 2ms/step - loss: 0.0714 - accuracy: 0.9761 - val_loss: 0.1397 - val_accuracy: 0.9752\n",
      "Epoch 86/100\n",
      "1500/1500 [==============================] - 3s 2ms/step - loss: 0.0698 - accuracy: 0.9762 - val_loss: 0.1338 - val_accuracy: 0.9748\n",
      "Epoch 87/100\n",
      "1500/1500 [==============================] - 3s 2ms/step - loss: 0.0713 - accuracy: 0.9759 - val_loss: 0.1323 - val_accuracy: 0.9753\n",
      "Epoch 88/100\n",
      "1500/1500 [==============================] - 3s 2ms/step - loss: 0.0705 - accuracy: 0.9759 - val_loss: 0.1365 - val_accuracy: 0.9761\n",
      "Epoch 89/100\n",
      "1500/1500 [==============================] - 4s 2ms/step - loss: 0.0703 - accuracy: 0.9759 - val_loss: 0.1418 - val_accuracy: 0.9751\n",
      "Epoch 90/100\n",
      "1500/1500 [==============================] - 3s 2ms/step - loss: 0.0669 - accuracy: 0.9777 - val_loss: 0.1425 - val_accuracy: 0.9750\n",
      "Epoch 91/100\n",
      "1500/1500 [==============================] - 3s 2ms/step - loss: 0.0676 - accuracy: 0.9769 - val_loss: 0.1354 - val_accuracy: 0.9759\n",
      "Epoch 92/100\n",
      "1500/1500 [==============================] - 3s 2ms/step - loss: 0.0660 - accuracy: 0.9772 - val_loss: 0.1450 - val_accuracy: 0.9748\n",
      "Epoch 93/100\n",
      "1500/1500 [==============================] - 3s 2ms/step - loss: 0.0680 - accuracy: 0.9775 - val_loss: 0.1350 - val_accuracy: 0.9756\n",
      "Epoch 94/100\n",
      "1500/1500 [==============================] - 3s 2ms/step - loss: 0.0680 - accuracy: 0.9768 - val_loss: 0.1398 - val_accuracy: 0.9758\n",
      "Epoch 95/100\n",
      "1500/1500 [==============================] - 3s 2ms/step - loss: 0.0715 - accuracy: 0.9770 - val_loss: 0.1385 - val_accuracy: 0.9752\n",
      "Epoch 96/100\n",
      "1500/1500 [==============================] - 3s 2ms/step - loss: 0.0656 - accuracy: 0.9774 - val_loss: 0.1361 - val_accuracy: 0.9758\n",
      "Epoch 97/100\n",
      "1500/1500 [==============================] - 3s 2ms/step - loss: 0.0680 - accuracy: 0.9764 - val_loss: 0.1344 - val_accuracy: 0.9764\n",
      "Epoch 98/100\n",
      "1500/1500 [==============================] - 3s 2ms/step - loss: 0.0677 - accuracy: 0.9771 - val_loss: 0.1350 - val_accuracy: 0.9747\n",
      "Epoch 99/100\n",
      "1500/1500 [==============================] - 3s 2ms/step - loss: 0.0666 - accuracy: 0.9771 - val_loss: 0.1476 - val_accuracy: 0.9742\n",
      "Epoch 100/100\n",
      "1500/1500 [==============================] - 3s 2ms/step - loss: 0.0697 - accuracy: 0.9758 - val_loss: 0.1409 - val_accuracy: 0.9758\n",
      "CPU times: total: 7min\n",
      "Wall time: 5min 20s\n"
     ]
    },
    {
     "data": {
      "text/plain": [
       "<tensorflow.python.keras.callbacks.History at 0x1e10c68a370>"
      ]
     },
     "execution_count": 18,
     "metadata": {},
     "output_type": "execute_result"
    }
   ],
   "source": [
    "%%time\n",
    "model.fit(x_train, y_train,batch_size=None ,epochs=100,validation_split=0.2,workers=-1,use_multiprocessing=True)"
   ]
  },
  {
   "cell_type": "code",
   "execution_count": 19,
   "id": "c35b3178",
   "metadata": {
    "ExecuteTime": {
     "end_time": "2022-03-17T16:40:02.068813Z",
     "start_time": "2022-03-17T16:40:01.256032Z"
    }
   },
   "outputs": [
    {
     "name": "stdout",
     "output_type": "stream",
     "text": [
      "313/313 [==============================] - 1s 2ms/step - loss: 0.1465 - accuracy: 0.9759\n"
     ]
    },
    {
     "data": {
      "text/plain": [
       "[0.14647479355335236, 0.9758999943733215]"
      ]
     },
     "execution_count": 19,
     "metadata": {},
     "output_type": "execute_result"
    }
   ],
   "source": [
    "model.evaluate(x_test,y_test)"
   ]
  },
  {
   "cell_type": "code",
   "execution_count": 20,
   "id": "f1bc0d02",
   "metadata": {
    "ExecuteTime": {
     "end_time": "2022-03-17T16:40:03.607945Z",
     "start_time": "2022-03-17T16:40:02.071391Z"
    }
   },
   "outputs": [],
   "source": [
    "pred=model.predict(x_train)"
   ]
  },
  {
   "cell_type": "code",
   "execution_count": 21,
   "id": "e4bd53df",
   "metadata": {
    "ExecuteTime": {
     "end_time": "2022-03-17T16:40:03.686964Z",
     "start_time": "2022-03-17T16:40:03.608930Z"
    }
   },
   "outputs": [],
   "source": [
    "y_hat = []\n",
    "for j in range(len(pred)):\n",
    "    y_hat.append(pred[j].tolist().index(max(pred[j].tolist())))"
   ]
  },
  {
   "cell_type": "code",
   "execution_count": 22,
   "id": "a4065dc9",
   "metadata": {
    "ExecuteTime": {
     "end_time": "2022-03-17T16:40:03.798130Z",
     "start_time": "2022-03-17T16:40:03.688958Z"
    }
   },
   "outputs": [
    {
     "name": "stdout",
     "output_type": "stream",
     "text": [
      "              precision    recall  f1-score   support\n",
      "\n",
      "           0       1.00      1.00      1.00      5919\n",
      "           1       1.00      1.00      1.00      6736\n",
      "           2       0.99      0.99      0.99      5946\n",
      "           3       0.99      0.99      0.99      6168\n",
      "           4       1.00      0.99      0.99      5855\n",
      "           5       0.99      0.99      0.99      5438\n",
      "           6       1.00      1.00      1.00      5914\n",
      "           7       1.00      0.99      0.99      6284\n",
      "           8       0.99      0.99      0.99      5833\n",
      "           9       0.99      0.99      0.99      5907\n",
      "\n",
      "    accuracy                           0.99     60000\n",
      "   macro avg       0.99      0.99      0.99     60000\n",
      "weighted avg       0.99      0.99      0.99     60000\n",
      "\n"
     ]
    }
   ],
   "source": [
    "from sklearn.metrics import classification_report\n",
    "print(classification_report(y_hat,y_train))"
   ]
  },
  {
   "cell_type": "code",
   "execution_count": null,
   "id": "c1dd9906",
   "metadata": {},
   "outputs": [],
   "source": []
  },
  {
   "cell_type": "code",
   "execution_count": null,
   "id": "026d29d3",
   "metadata": {},
   "outputs": [],
   "source": []
  },
  {
   "cell_type": "code",
   "execution_count": null,
   "id": "0881297f",
   "metadata": {},
   "outputs": [],
   "source": []
  },
  {
   "cell_type": "code",
   "execution_count": null,
   "id": "070c916a",
   "metadata": {},
   "outputs": [],
   "source": []
  },
  {
   "cell_type": "code",
   "execution_count": null,
   "id": "202c8ca2",
   "metadata": {},
   "outputs": [],
   "source": []
  },
  {
   "cell_type": "code",
   "execution_count": null,
   "id": "4eced14d",
   "metadata": {},
   "outputs": [],
   "source": []
  },
  {
   "cell_type": "code",
   "execution_count": null,
   "id": "dfeae410",
   "metadata": {},
   "outputs": [],
   "source": []
  },
  {
   "cell_type": "code",
   "execution_count": null,
   "id": "6bef99b7",
   "metadata": {},
   "outputs": [],
   "source": []
  },
  {
   "cell_type": "code",
   "execution_count": null,
   "id": "61597229",
   "metadata": {},
   "outputs": [],
   "source": []
  },
  {
   "cell_type": "code",
   "execution_count": null,
   "id": "de1f385c",
   "metadata": {},
   "outputs": [],
   "source": []
  },
  {
   "cell_type": "code",
   "execution_count": null,
   "id": "aa876b1f",
   "metadata": {},
   "outputs": [],
   "source": []
  },
  {
   "cell_type": "code",
   "execution_count": null,
   "id": "4847a0f9",
   "metadata": {},
   "outputs": [],
   "source": []
  },
  {
   "cell_type": "code",
   "execution_count": null,
   "id": "12d92ddb",
   "metadata": {},
   "outputs": [],
   "source": []
  },
  {
   "cell_type": "code",
   "execution_count": null,
   "id": "03c70970",
   "metadata": {},
   "outputs": [],
   "source": []
  },
  {
   "cell_type": "code",
   "execution_count": null,
   "id": "b9a2e1ba",
   "metadata": {},
   "outputs": [],
   "source": []
  },
  {
   "cell_type": "code",
   "execution_count": null,
   "id": "5f94b755",
   "metadata": {},
   "outputs": [],
   "source": []
  },
  {
   "cell_type": "code",
   "execution_count": null,
   "id": "ec9cb45b",
   "metadata": {},
   "outputs": [],
   "source": []
  },
  {
   "cell_type": "code",
   "execution_count": null,
   "id": "71489b41",
   "metadata": {},
   "outputs": [],
   "source": []
  },
  {
   "cell_type": "code",
   "execution_count": null,
   "id": "bbfa9414",
   "metadata": {},
   "outputs": [],
   "source": []
  },
  {
   "cell_type": "code",
   "execution_count": null,
   "id": "0bd96528",
   "metadata": {},
   "outputs": [],
   "source": []
  },
  {
   "cell_type": "code",
   "execution_count": null,
   "id": "2556a8ad",
   "metadata": {},
   "outputs": [],
   "source": []
  },
  {
   "cell_type": "code",
   "execution_count": null,
   "id": "355df8d6",
   "metadata": {},
   "outputs": [],
   "source": []
  },
  {
   "cell_type": "code",
   "execution_count": null,
   "id": "cb7b7319",
   "metadata": {},
   "outputs": [],
   "source": []
  },
  {
   "cell_type": "code",
   "execution_count": null,
   "id": "2150bbff",
   "metadata": {},
   "outputs": [],
   "source": []
  }
 ],
 "metadata": {
  "kernelspec": {
   "display_name": "Python 3 (ipykernel)",
   "language": "python",
   "name": "python3"
  },
  "language_info": {
   "codemirror_mode": {
    "name": "ipython",
    "version": 3
   },
   "file_extension": ".py",
   "mimetype": "text/x-python",
   "name": "python",
   "nbconvert_exporter": "python",
   "pygments_lexer": "ipython3",
   "version": "3.9.7"
  }
 },
 "nbformat": 4,
 "nbformat_minor": 5
}
